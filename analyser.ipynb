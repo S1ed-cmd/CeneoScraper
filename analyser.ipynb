{
 "cells": [
  {
   "cell_type": "code",
   "execution_count": null,
   "metadata": {},
   "outputs": [],
   "source": [
    "import os\n",
    "import pandas as pd\n",
    "import numpy as np\n",
    "from matplotlib import pyplot as plt"
   ]
  },
  {
   "cell_type": "code",
   "execution_count": null,
   "metadata": {},
   "outputs": [],
   "source": [
    "if not os.path.exists(\"./pie_charts\"):\n",
    "    os.mkdir(\"./pie_charts\")\n",
    "if not os.path.exists(\"./bar_charts\"):\n",
    "    os.mkdir(\"./bar_charts\")"
   ]
  },
  {
   "cell_type": "markdown",
   "metadata": {},
   "source": [
    "Imports\n"
   ]
  },
  {
   "cell_type": "code",
   "execution_count": null,
   "metadata": {},
   "outputs": [],
   "source": [
    "print([filename.split(\".\")[0] for filename in os.listdir(\"./opinions\")], sep=\"\\n\")"
   ]
  },
  {
   "cell_type": "code",
   "execution_count": null,
   "metadata": {},
   "outputs": [],
   "source": [
    "product_id = input(\"Enter product id:\")"
   ]
  },
  {
   "cell_type": "code",
   "execution_count": null,
   "metadata": {},
   "outputs": [],
   "source": [
    "opinions = pd.read_json(f\"./opinions/{product_id}.json\")\n",
    "opinions"
   ]
  },
  {
   "cell_type": "code",
   "execution_count": null,
   "metadata": {},
   "outputs": [],
   "source": [
    "opinions_count = opinions.shape[0]\n",
    "pros_count = sum(opinions.pros_pl.astype(bool)) # converts the list into a bool [empty]/[not-empty], the sum counts trues a 1s and falses as 0s\n",
    "cons_count = sum(opinions.cons_pl.astype(bool))\n",
    "pros_cons_count = opinions.apply(lambda opinion: bool(opinion.pros_pl) and bool(opinion.cons_pl), axis=1).sum() \n",
    "\n",
    "average_score = opinions.score.mean()\n",
    "print(f\"Number of opinions about the product: {opinions_count}\")\n",
    "print(f\"Number of opinions with advantages listed: {pros_count}\")\n",
    "print(f\"Number of opinions with disadvantages listed: {cons_count}\")\n",
    "print(f\"Number of opinions for which advantages and disadvantages are listed: {pros_cons_count}\")\n",
    "print(f\"Average score of all opinions: {average_score: .2f}\")"
   ]
  },
  {
   "cell_type": "code",
   "execution_count": null,
   "metadata": {},
   "outputs": [],
   "source": [
    "\n",
    "pros = opinions.pros_en.explode().value_counts()\n",
    "cons = opinions.cons_en.explode().value_counts()"
   ]
  },
  {
   "cell_type": "code",
   "execution_count": null,
   "metadata": {},
   "outputs": [],
   "source": [
    "recommendations = opinions.recommendation.value_counts(dropna=False).reindex([True, False, None], fill_value=0)\n",
    "plt.figure(figsize=(7,5))"
   ]
  },
  {
   "cell_type": "code",
   "execution_count": null,
   "metadata": {},
   "outputs": [],
   "source": [
    "recommendations.plot.pie(\n",
    "    label = \"\",\n",
    "    labels = [\"Recommend\", \"Not recommend\", \"No opinion\"],\n",
    "    colors = [\"forestgreen\", \"crimson\", \"steelblue\"], \n",
    "    autopct = lambda r: f\"{r:.1f}%\" if r > 0 else \"\" \n",
    ")\n",
    "plt.title(f\"recommendations for product {product_id}\")\n",
    "plt.savefig(f\"./pie_charts/{product_id}.png\")\n",
    "plt.plot()"
   ]
  },
  {
   "cell_type": "code",
   "execution_count": null,
   "metadata": {},
   "outputs": [],
   "source": [
    "scores = opinions.score.value_counts().reindex(list(np.arange(0.5,5.5,0.5)), fill_value=0)"
   ]
  },
  {
   "cell_type": "code",
   "execution_count": null,
   "metadata": {},
   "outputs": [],
   "source": [
    "ax = scores.plot.bar(\n",
    "    color = [\"forestgreen\" if s > 3.5 else \"crimson\" if s < 3 else \"steelblue\" for s in scores.index]\n",
    ")\n",
    "plt.bar_label(container=ax.containers[0])\n",
    "plt.xlabel(\"Score\")\n",
    "plt.ylabel(\"Number of opinions\")\n",
    "no_opinions = len(opinions)\n",
    "plt.title(\"Number of opinions about {product_id} by their respective scores.\\nTotal number of opinions: {no_opinions}\")\n",
    "plt.xticks(rotation=0)\n",
    "plt.savefig(f\"./bar_charts/{product_id}.png\")\n",
    "plt.show()\n"
   ]
  }
 ],
 "metadata": {
  "kernelspec": {
   "display_name": "Python 3",
   "language": "python",
   "name": "python3"
  },
  "language_info": {
   "codemirror_mode": {
    "name": "ipython",
    "version": 3
   },
   "file_extension": ".py",
   "mimetype": "text/x-python",
   "name": "python",
   "nbconvert_exporter": "python",
   "pygments_lexer": "ipython3",
   "version": "3.13.2"
  }
 },
 "nbformat": 4,
 "nbformat_minor": 2
}

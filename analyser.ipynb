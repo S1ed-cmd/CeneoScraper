{
 "cells": [
  {
   "cell_type": "code",
   "execution_count": 1,
   "metadata": {},
   "outputs": [],
   "source": [
    "import os\n",
    "import pandas as pd\n",
    "import numpy as np\n",
    "from matplotlib import pyplot as plt"
   ]
  },
  {
   "cell_type": "markdown",
   "metadata": {},
   "source": [
    "Imports\n"
   ]
  },
  {
   "cell_type": "code",
   "execution_count": null,
   "metadata": {},
   "outputs": [],
   "source": [
    "print([filename.split(\".\")[0] for filename in os.listdir(\"./opinions\")], sep=\"\\n\")"
   ]
  },
  {
   "cell_type": "code",
   "execution_count": null,
   "metadata": {},
   "outputs": [],
   "source": []
  },
  {
   "cell_type": "code",
   "execution_count": 3,
   "metadata": {},
   "outputs": [],
   "source": [
    "product_id = input(\"Enter product id:\")"
   ]
  },
  {
   "cell_type": "code",
   "execution_count": null,
   "metadata": {},
   "outputs": [],
   "source": [
    "opinions = pd.read_json(f\"./opinions/{product_id}.json\")\n",
    "opinions"
   ]
  },
  {
   "cell_type": "code",
   "execution_count": 20,
   "metadata": {},
   "outputs": [],
   "source": [
    "opinions_count =opinions.shape[0]\n",
    "pros_count =opinions.pros_pl.astype(bool).sum()\n",
    "cons_count =opinions.cons_pl.astype(bool).sum()\n",
    "pros_cons_count= opinions.apply(lambda o: bool(o.pros_pl) and bool(o.cons_pl), axis=1).sum()\n",
    "average_stars =opinions.score.mean()\n",
    "print =(f\"Numbers of opinions about the product: {opinions_count}\")\n",
    "print =(f\"Numbers of opinions about the product in which advantagest been listed: {pros_count}\")\n",
    "print =(f\"Numbers of opinions about the product in which desadvantagest been listed: {cons_count}\")\n",
    "print =(f\"Average score of the product: {average_stars:.2f}\")"
   ]
  },
  {
   "cell_type": "code",
   "execution_count": null,
   "metadata": {},
   "outputs": [],
   "source": []
  },
  {
   "cell_type": "code",
   "execution_count": null,
   "metadata": {},
   "outputs": [],
   "source": [
    "\n",
    "pros = opinions.pros_en.explode().value_counts()\n",
    "cons = opinions.cons_en.explode().value_counts()\n",
    "pros\n",
    "cons"
   ]
  },
  {
   "cell_type": "code",
   "execution_count": 22,
   "metadata": {},
   "outputs": [],
   "source": [
    "if not os.path.exists(\"./pie_charts\"):\n",
    "    os.mkdir(\"./pie_charts\")\n",
    "if not os.path.exists(\"./bar_charts\"):\n",
    "    os.mkdir(\"./bar_charts\")"
   ]
  },
  {
   "cell_type": "code",
   "execution_count": null,
   "metadata": {},
   "outputs": [],
   "source": [
    "recommendations = opinions.recommendation.value_counts(dropna=False).reindex([True,False,np.nan], fill_value=0)                                                         \n",
    "recommendations"
   ]
  },
  {
   "cell_type": "code",
   "execution_count": 24,
   "metadata": {},
   "outputs": [],
   "source": [
    "recommendations.plot.pie(\n",
    "    label =\"\",\n",
    "    labels = [\"Recommended\",\"Not recommend\",\"No opinion\"],\n",
    "    colors = ['forestgreen','crimson','purple'],\n",
    "    autopct = lambda r: f\"{r:.1f}%\" if r>0 else \"\"\n",
    ")\n",
    "plt.title(f\"Recommendations for product {product_id}\\n Total number of opinions: {opinions_count}\")\n",
    "plt.savefig(f'./opinions/{product_id}.')\n",
    "plt.close()"
   ]
  },
  {
   "cell_type": "code",
   "execution_count": null,
   "metadata": {},
   "outputs": [],
   "source": [
    "stars = opinions.score.value_counts().reindex(list(np.arange(0.5,5.5,0.5)), fill_value=0)\n",
    "stars"
   ]
  },
  {
   "cell_type": "code",
   "execution_count": null,
   "metadata": {},
   "outputs": [],
   "source": [
    "stars.plot.bar(\n",
    "    color = [\"farestgreen\" if s>3.5 else \"srimson\" s< 3 else \"steelblue\" for s in scores.index]\n",
    ")\n",
    "plt.bar_label(container=ax.containers[0])\n",
    "plt.xlabel(\"number of stars\")\n",
    "plt.ylabel(\"Number of opinions\")\n",
    "plt.title(f\"Recommendations for product {product_id}\\n Total number of opinions: {opinions_count}\")\n",
    "plt.xticks(rotation=0)\n",
    "plt.savefig(f'./opinions/{product_id}.')\n",
    "plt.close()\n"
   ]
  }
 ],
 "metadata": {
  "kernelspec": {
   "display_name": ".venv",
   "language": "python",
   "name": "python3"
  },
  "language_info": {
   "codemirror_mode": {
    "name": "ipython",
    "version": 3
   },
   "file_extension": ".py",
   "mimetype": "text/x-python",
   "name": "python",
   "nbconvert_exporter": "python",
   "pygments_lexer": "ipython3",
   "version": "3.11.4"
  }
 },
 "nbformat": 4,
 "nbformat_minor": 2
}

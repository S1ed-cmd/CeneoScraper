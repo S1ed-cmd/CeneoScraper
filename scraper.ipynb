{
 "cells": [
  {
   "cell_type": "markdown",
   "metadata": {},
   "source": [
    "iMPORTS"
   ]
  },
  {
   "cell_type": "code",
   "execution_count": 48,
   "metadata": {},
   "outputs": [],
   "source": [
    "import json\n",
    "import requests\n",
    "from bs4 import BeautifulSoup"
   ]
  },
  {
   "cell_type": "code",
   "execution_count": 20,
   "metadata": {},
   "outputs": [],
   "source": [
    "with open(\"./cookie.json\",\"r\",encoding=\"UTF-8\") as jf:\n",
    "    headers = json.load(jf)"
   ]
  },
  {
   "cell_type": "markdown",
   "metadata": {},
   "source": [
    "1. send a request for accessing first webpage with opinions about products\n"
   ]
  },
  {
   "cell_type": "markdown",
   "metadata": {},
   "source": [
    "2. If responce is OK, parse HTML page content into DOM structure "
   ]
  },
  {
   "cell_type": "markdown",
   "metadata": {},
   "source": [
    "3. Extract from DOM structure  opinions and their components"
   ]
  },
  {
   "cell_type": "markdown",
   "metadata": {},
   "source": [
    "4. Assign opinions with their cmponents to complex data structures\n"
   ]
  },
  {
   "cell_type": "markdown",
   "metadata": {},
   "source": [
    "5. If there are more pages with opinions, repeat all steps 1-5"
   ]
  },
  {
   "cell_type": "code",
   "execution_count": 57,
   "metadata": {},
   "outputs": [],
   "source": [
    "try:\n",
    "    url = \"https://www.ceneo.pl\"+page_dom.select_one(\"a.pagination_next\")[\"href\"]\n",
    "except TypeError:\n",
    "    url = None"
   ]
  },
  {
   "cell_type": "code",
   "execution_count": 64,
   "metadata": {},
   "outputs": [
    {
     "name": "stdout",
     "output_type": "stream",
     "text": [
      "[{'opinion_id': '19175428', 'author': 'r...2', 'recommend': 'Polecam', 'stars': '5/5', 'content': 'Wspaniałe urządzenie spełnia wszystkie moje oczekiwania', 'pros': ['jakość wykonania', 'łatwość czyszczenia', 'pojemność', 'szybkość nagrzewania'], 'cons': [], 'up_votes': '2', 'down_votes': '0', 'published': '2024-11-01 10:42:48', 'purshaped': '2024-10-23 21:35:35'}]\n",
      "[{'opinion_id': '19175428', 'author': 'r...2', 'recommend': 'Polecam', 'stars': '5/5', 'content': 'Wspaniałe urządzenie spełnia wszystkie moje oczekiwania', 'pros': ['jakość wykonania', 'łatwość czyszczenia', 'pojemność', 'szybkość nagrzewania'], 'cons': [], 'up_votes': '2', 'down_votes': '0', 'published': '2024-11-01 10:42:48', 'purshaped': '2024-10-23 21:35:35'}, {'opinion_id': '19524088', 'author': 'o...a', 'recommend': 'Polecam', 'stars': '5/5', 'content': 'Wszystko zgodnie z zamówieniem', 'pros': ['efektywność', 'jakość wykonania', 'komfort użytkowania', 'łatwość czyszczenia', 'pojemność', 'szybkość nagrzewania'], 'cons': [], 'up_votes': '1', 'down_votes': '0', 'published': '2025-03-17 14:20:53', 'purshaped': '2024-12-27 17:14:08'}]\n",
      "[{'opinion_id': '19175428', 'author': 'r...2', 'recommend': 'Polecam', 'stars': '5/5', 'content': 'Wspaniałe urządzenie spełnia wszystkie moje oczekiwania', 'pros': ['jakość wykonania', 'łatwość czyszczenia', 'pojemność', 'szybkość nagrzewania'], 'cons': [], 'up_votes': '2', 'down_votes': '0', 'published': '2024-11-01 10:42:48', 'purshaped': '2024-10-23 21:35:35'}, {'opinion_id': '19524088', 'author': 'o...a', 'recommend': 'Polecam', 'stars': '5/5', 'content': 'Wszystko zgodnie z zamówieniem', 'pros': ['efektywność', 'jakość wykonania', 'komfort użytkowania', 'łatwość czyszczenia', 'pojemność', 'szybkość nagrzewania'], 'cons': [], 'up_votes': '1', 'down_votes': '0', 'published': '2025-03-17 14:20:53', 'purshaped': '2024-12-27 17:14:08'}, {'opinion_id': '19220961', 'author': 'Krzysztof', 'recommend': 'Polecam', 'stars': '5/5', 'content': 'OK', 'pros': [], 'cons': [], 'up_votes': '1', 'down_votes': '1', 'published': '2024-11-20 17:27:03', 'purshaped': '2024-11-18 16:35:40'}]\n"
     ]
    }
   ],
   "source": [
    "url = \"https://www.ceneo.pl/169771365#tab=reviews\"\n",
    "all_opinions = []\n",
    "while url:\n",
    "    response = requests.get(url, headers = headers)\n",
    "    if response.status_code == 200:\n",
    "     page_dom = BeautifulSoup(response.text, 'html.parser')\n",
    "     opinions = page_dom.select(\"div.js_product-review:not(.user-post--highlights)\")\n",
    "   \n",
    "     for opinion in opinions:\n",
    "        single_opinion = {}\n",
    "        single_opinion['opinion_id'] = opinion[\"data-entry-id\"]\n",
    "        single_opinion['author'] = opinion.select_one(\"span.user-post__author-name\").text.strip()\n",
    "        try:\n",
    "            single_opinion['recommend'] = opinion.select_one(\"span.user-post__author-recomendation> em\").text.strip()\n",
    "        except AttributeError:\n",
    "            single_opinion['recommend'] = None\n",
    "        single_opinion['stars'] = opinion.select_one(\"span.user-post__score-count\").text.strip()\n",
    "        single_opinion['content'] = opinion.select_one(\"div.user-post__text\").text.strip()\n",
    "        single_opinion['pros'] = [tag.text.strip() for tag in opinion.select(\"div.review-feature__item--positive\")]\n",
    "        single_opinion['cons'] = [tag.text.strip() for tag in opinion.select(\"div.review-feature__item--negative\")]\n",
    "        single_opinion['up_votes'] = opinion.select_one(\"button.vote-yes\")[\"data-total-vote\"].strip()\n",
    "        single_opinion['down_votes'] = opinion.select_one(\"button.vote-no\")[\"data-total-vote\"].strip()\n",
    "        single_opinion['published'] = opinion.select_one(\"span.user-post__published > time:nth-child(1)\")[\"datetime\"].strip()\n",
    "        try:\n",
    "            single_opinion['purshaped'] = opinion.select_one(\"span.user-post__published > time:nth-child(2)\")[\"datetime\"].strip()\n",
    "        except TypeError:\n",
    "            single_opinion['purshaped'] = None\n",
    "        all_opinions.append(single_opinion)\n",
    "        print(single_opinions)\n",
    "        try:\n",
    "          url = \"https://www.ceneo.pl\"+page_dom.select_one(\"a.pagination_next\")[\"href\"]\n",
    "        except TypeError:\n",
    "          url = None"
   ]
  }
 ],
 "metadata": {
  "kernelspec": {
   "display_name": ".venv",
   "language": "python",
   "name": "python3"
  },
  "language_info": {
   "codemirror_mode": {
    "name": "ipython",
    "version": 3
   },
   "file_extension": ".py",
   "mimetype": "text/x-python",
   "name": "python",
   "nbconvert_exporter": "python",
   "pygments_lexer": "ipython3",
   "version": "3.11.4"
  }
 },
 "nbformat": 4,
 "nbformat_minor": 2
}

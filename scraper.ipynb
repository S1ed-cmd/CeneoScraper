{
 "cells": [
  {
   "cell_type": "markdown",
   "metadata": {},
   "source": [
    "iMPORTS"
   ]
  },
  {
   "cell_type": "code",
   "execution_count": 8,
   "metadata": {},
   "outputs": [],
   "source": [
    "import json\n",
    "import requests\n",
    "from bs4 import BeautifulSoup\n",
    "import os\n",
    "from deep_translator import GoogleTranslator\n",
    "import datetime"
   ]
  },
  {
   "cell_type": "markdown",
   "metadata": {},
   "source": [
    "Utils"
   ]
  },
  {
   "cell_type": "code",
   "execution_count": 9,
   "metadata": {},
   "outputs": [],
   "source": [
    "def translation(source='pl', target='en'):\n",
    "   return GoogleTranslator(source,target).translate(text)"
   ]
  },
  {
   "cell_type": "code",
   "execution_count": 10,
   "metadata": {},
   "outputs": [],
   "source": [
    "def extract(ancestor, selector=None, attribute = None, multiple = False):\n",
    "    if selector:\n",
    "        if multiple:\n",
    "            if attribute:\n",
    "                return [tag[attribute].strip() for tag in ancestor.select(selector)]\n",
    "            return [tag.text.strip() for tag in ancestor.select(selector)]\n",
    "        if attribute:\n",
    "            try:\n",
    "                return ancestor.select_one(selector)[attribute].strip()\n",
    "            except TypeError:\n",
    "                return None\n",
    "        try:\n",
    "            return ancestor.select_one(selector).text.strip()\n",
    "        except AttributeError:\n",
    "            return None\n",
    "    if attribute:\n",
    "        return ancestor[attribute]\n",
    "    return ancestor.text.strip()"
   ]
  },
  {
   "cell_type": "code",
   "execution_count": 11,
   "metadata": {},
   "outputs": [],
   "source": [
    "selectors = {\n",
    "    'opinion_id': (None, \"data-entry-id\"),\n",
    "    'author': (\"span.user-post__author-name\",),\n",
    "    'recommendation': (\"span.user-post__author-recomendation > em\",),\n",
    "    'score': (\"span.user-post__score-count\",),\n",
    "    'content_pl': (\"div.user-post__text\",),\n",
    "    'pros_pl': (\"div.review-feature__item--positive\", None, True),\n",
    "    'cons_pl': (\"div.review-feature__item--negative\", None, True),\n",
    "    'thumbs_up': (\"button.vote-yes\", \"data-total-vote\",),\n",
    "    'thumbs_down': (\"button.vote-no\", \"data-total-vote\",),\n",
    "    'date_published': (\"span.user-post__published > time:nth-child(1)\", \"datetime\"),\n",
    "    'date_purchased': (\"span.user-post__published > time:nth-child(2)\", \"datetime\")\n",
    "}"
   ]
  },
  {
   "cell_type": "code",
   "execution_count": 12,
   "metadata": {},
   "outputs": [],
   "source": [
    "with open(\"./cookie.json\", \"r\", encoding=\"UTF-8\") as json_file:\n",
    "    headers = json.load(json_file)\n",
    "requests_url = \"https://www.ceneo.pl/\"\n",
    "product_id = input(\"please enter product ID\")\n",
    "url = f\"{requests_url}{product_id}#tab=reviews\"\n",
    "response = requests.get(url, headers = headers)"
   ]
  },
  {
   "cell_type": "markdown",
   "metadata": {},
   "source": [
    "1. send a request for accessing first webpage with opinions about products\n"
   ]
  },
  {
   "cell_type": "markdown",
   "metadata": {},
   "source": [
    "2. If responce is OK, parse HTML page content into DOM structure "
   ]
  },
  {
   "cell_type": "markdown",
   "metadata": {},
   "source": [
    "3. Extract from DOM structure  opinions and their components"
   ]
  },
  {
   "cell_type": "markdown",
   "metadata": {},
   "source": [
    "4. Assign opinions with their cmponents to complex data structures\n"
   ]
  },
  {
   "cell_type": "markdown",
   "metadata": {},
   "source": [
    "5. If there are more pages with opinions, repeat all steps 1-5"
   ]
  },
  {
   "cell_type": "code",
   "execution_count": 13,
   "metadata": {},
   "outputs": [],
   "source": [
    "all_opinions = []\n",
    "while url is not None:\n",
    "    response = requests.get(url, headers = headers)\n",
    "    if response.status_code == 200:\n",
    "        page_doc = BeautifulSoup(response.text, 'html.parser')\n",
    "        opinions = page_doc.select(\"div.js_product-review:not(.user-post--highlight)\")\n",
    "        for opinion in opinions:\n",
    "            single_opinion = {\n",
    "                key: extract(opinion, *values) \n",
    "                for key, values in selectors.items()\n",
    "            }\n",
    "\n",
    "            \n",
    "            try:\n",
    "                single_opinion['content_en'] = translate(single_opinion['content_pl'])\n",
    "                single_opinion['pros_en'] = translate(single_opinion['pros_pl'])\n",
    "                single_opinion['cons_en'] = translate(single_opinion['cons_pl'])\n",
    "            except Exception:\n",
    "                single_opinion['content_en'] = None\n",
    "                single_opinion['pros_en'] = None\n",
    "                single_opinion['cons_en'] = None\n",
    "            \n",
    "            single_opinion['recommendation'] = True if single_opinion['recommendation'] == \"polecam\" else False if single_opinion['recommendation']  == \"Nie polecam\" else None\n",
    "            single_opinion['score'] = float(single_opinion['score'].split('/')[0].replace(\",\",\".\"))\n",
    "            \n",
    "            single_opinion['thumbs_up'] = int(single_opinion['thumbs_up'])\n",
    "            single_opinion['thumbs__down'] = int(single_opinion['thumbs_down'])\n",
    "\n",
    "            all_opinions.append(single_opinion)\n",
    "        try:\n",
    "            url = \"https://www.ceneo.pl\"+page_doc.select_one(\"a.pagination__next\")[\"href\"]\n",
    "        except TypeError:\n",
    "            url = None"
   ]
  },
  {
   "cell_type": "code",
   "execution_count": 14,
   "metadata": {},
   "outputs": [],
   "source": [
    "for single_opinion in all_opinions:\n",
    "    try:\n",
    "        single_opinion['date_published'] = single_opinion['date_published'].strftime(\"%Y-%m-%d, %H:%M:%S\") if single_opinion['date_published'] else None\n",
    "    except AttributeError:\n",
    "        pass\n",
    "    try:\n",
    "        single_opinion['date_purchased'] = single_opinion['date_purchased'].strftime(\"%Y-%m-%d, %H:%M:%S\") if single_opinion['date_purchased'] else None\n",
    "    except AttributeError:\n",
    "        pass"
   ]
  },
  {
   "cell_type": "code",
   "execution_count": 15,
   "metadata": {},
   "outputs": [],
   "source": [
    "if not os.path.exists(\"./opinions\"):\n",
    "    os.mkdir(\"./opinions\")\n",
    "with open(f\"./opinions/{product_id}.json\", \"w\", encoding=\"UTF-8\") as json_file:\n",
    "    json.dump(all_opinions, json_file, indent=4, ensure_ascii=False)"
   ]
  }
 ],
 "metadata": {
  "kernelspec": {
   "display_name": ".venv",
   "language": "python",
   "name": "python3"
  },
  "language_info": {
   "codemirror_mode": {
    "name": "ipython",
    "version": 3
   },
   "file_extension": ".py",
   "mimetype": "text/x-python",
   "name": "python",
   "nbconvert_exporter": "python",
   "pygments_lexer": "ipython3",
   "version": "3.13.2"
  }
 },
 "nbformat": 4,
 "nbformat_minor": 2
}
